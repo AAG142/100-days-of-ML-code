{
 "cells": [
  {
   "cell_type": "markdown",
   "metadata": {},
   "source": [
    "## Gradient Descent\n",
    "\n",
    "In the Day 1 Code (Link : https://github.com/arnabghose997/100-days-of-ML-code/tree/master/Linear_Regression(Day_1)), we saw how Linear Regression can be implemented using sklearn library. The model understands the trend of data and plots a line that best fits the data. It does the job by employing a simple and awesome technique called Gradient Descent. In this notebook, we are going to see gradient descent in action!"
   ]
  },
  {
   "cell_type": "code",
   "execution_count": 1,
   "metadata": {
    "collapsed": true
   },
   "outputs": [],
   "source": [
    "import numpy as np\n",
    "import matplotlib.pyplot as plt\n",
    "import pandas as pd"
   ]
  },
  {
   "cell_type": "markdown",
   "metadata": {},
   "source": [
    "### Dataset\n",
    "\n",
    "For the sake of understanding, I have created a small dataset with two variables by executing the following code in another notebook."
   ]
  },
  {
   "cell_type": "code",
   "execution_count": 2,
   "metadata": {
    "collapsed": true
   },
   "outputs": [],
   "source": [
    "X = np.linspace(0, 2, 60)\n",
    "y = np.random.random(60)\n",
    "data = pd.DataFrame(data = {\"feature\":X, \"target\":y})\n",
    "data.to_csv(\"data.csv\")"
   ]
  },
  {
   "cell_type": "code",
   "execution_count": 3,
   "metadata": {},
   "outputs": [
    {
     "data": {
      "text/html": [
       "<div>\n",
       "<style>\n",
       "    .dataframe thead tr:only-child th {\n",
       "        text-align: right;\n",
       "    }\n",
       "\n",
       "    .dataframe thead th {\n",
       "        text-align: left;\n",
       "    }\n",
       "\n",
       "    .dataframe tbody tr th {\n",
       "        vertical-align: top;\n",
       "    }\n",
       "</style>\n",
       "<table border=\"1\" class=\"dataframe\">\n",
       "  <thead>\n",
       "    <tr style=\"text-align: right;\">\n",
       "      <th></th>\n",
       "      <th>feature</th>\n",
       "      <th>target</th>\n",
       "    </tr>\n",
       "  </thead>\n",
       "  <tbody>\n",
       "    <tr>\n",
       "      <th>0</th>\n",
       "      <td>0.000000</td>\n",
       "      <td>0.791917</td>\n",
       "    </tr>\n",
       "    <tr>\n",
       "      <th>1</th>\n",
       "      <td>0.033898</td>\n",
       "      <td>0.471355</td>\n",
       "    </tr>\n",
       "    <tr>\n",
       "      <th>2</th>\n",
       "      <td>0.067797</td>\n",
       "      <td>0.661493</td>\n",
       "    </tr>\n",
       "    <tr>\n",
       "      <th>3</th>\n",
       "      <td>0.101695</td>\n",
       "      <td>0.577744</td>\n",
       "    </tr>\n",
       "    <tr>\n",
       "      <th>4</th>\n",
       "      <td>0.135593</td>\n",
       "      <td>0.654626</td>\n",
       "    </tr>\n",
       "  </tbody>\n",
       "</table>\n",
       "</div>"
      ],
      "text/plain": [
       "    feature    target\n",
       "0  0.000000  0.791917\n",
       "1  0.033898  0.471355\n",
       "2  0.067797  0.661493\n",
       "3  0.101695  0.577744\n",
       "4  0.135593  0.654626"
      ]
     },
     "execution_count": 3,
     "metadata": {},
     "output_type": "execute_result"
    }
   ],
   "source": [
    "# Loading Data\n",
    "data = pd.read_csv(\"data.csv\")\n",
    "data = data.iloc[:,1:] #Removing the Unnamed column\n",
    "data.head()"
   ]
  },
  {
   "cell_type": "markdown",
   "metadata": {},
   "source": [
    "### Visualisation (Before Implementation of Gradient Descent)"
   ]
  },
  {
   "cell_type": "code",
   "execution_count": 4,
   "metadata": {},
   "outputs": [
    {
     "data": {
      "image/png": "[encoded data removed]",
      "text/plain": [
       "<matplotlib.figure.Figure at 0xa209cacb00>"
      ]
     },
     "metadata": {},
     "output_type": "display_data"
    }
   ],
   "source": [
    "plt.scatter(X,y, color=\"blue\")\n",
    "plt.xlabel(\"Feature\")\n",
    "plt.ylabel(\"Target\")\n",
    "plt.show()"
   ]
  },
  {
   "cell_type": "code",
   "execution_count": 5,
   "metadata": {},
   "outputs": [],
   "source": [
    "X = data.feature.values\n",
    "y = data.target.values\n",
    "X = X.reshape((60, 1))\n",
    "y = y.reshape((60, 1))\n",
    "theta_1 = 1 #Parameter\n",
    "alpha = 0.6 #Leaning Rate"
   ]
  },
  {
   "cell_type": "code",
   "execution_count": 6,
   "metadata": {
    "collapsed": true
   },
   "outputs": [],
   "source": [
    "#Gradient Descent\n",
    "def gradient(theta, X, y):\n",
    "    hyp = np.dot(X, theta)  #Hypothesis Function\n",
    "    diff = hyp - y  #Error between actual and hypothised output \n",
    "    return (1/X.shape[0]) * np.dot(diff.T, X)  #Gradient function"
   ]
  },
  {
   "cell_type": "code",
   "execution_count": 7,
   "metadata": {
    "collapsed": true
   },
   "outputs": [],
   "source": [
    "def gradient_descent(theta_1, X, y):\n",
    "    grad = gradient(theta_1, X, y)\n",
    "    while not np.absolute(grad) <= 1e-4:   # 1e-4 is the threshold value\n",
    "        theta_1 = theta_1 - (alpha * grad)\n",
    "        grad = gradient(theta_1, X, y)\n",
    "    return theta_1"
   ]
  },
  {
   "cell_type": "code",
   "execution_count": 8,
   "metadata": {},
   "outputs": [
    {
     "name": "stdout",
     "output_type": "stream",
     "text": [
      "Optimal value of theta: [[ 0.39998381]]\n"
     ]
    }
   ],
   "source": [
    "val = gradient_descent(theta_1, X, y)\n",
    "print(\"Optimal value of theta:\", val)"
   ]
  },
  {
   "cell_type": "markdown",
   "metadata": {},
   "source": [
    "### Visualisation (After Implementation of Gradient Descent)"
   ]
  },
  {
   "cell_type": "code",
   "execution_count": 9,
   "metadata": {},
   "outputs": [
    {
     "data": {
      "image/png": "[encoded data removed]",
      "text/plain": [
       "<matplotlib.figure.Figure at 0xa209fbed30>"
      ]
     },
     "metadata": {},
     "output_type": "display_data"
    }
   ],
   "source": [
    "y_hyp = val * X\n",
    "plt.plot(X, y_hyp, color=\"red\")\n",
    "plt.scatter(X, y, color=\"blue\")\n",
    "plt.xlabel(\"Feature\")\n",
    "plt.ylabel(\"Target\")\n",
    "plt.show()"
   ]
  }
 ],
 "metadata": {
  "kernelspec": {
   "display_name": "Python 3",
   "language": "python",
   "name": "python3"
  },
  "language_info": {
   "codemirror_mode": {
    "name": "ipython",
    "version": 3
   },
   "file_extension": ".py",
   "mimetype": "text/x-python",
   "name": "python",
   "nbconvert_exporter": "python",
   "pygments_lexer": "ipython3",
   "version": "3.6.2"
  }
 },
 "nbformat": 4,
 "nbformat_minor": 2
}
